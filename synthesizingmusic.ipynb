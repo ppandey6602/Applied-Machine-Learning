{
  "nbformat": 4,
  "nbformat_minor": 0,
  "metadata": {
    "colab": {
      "provenance": [],
      "authorship_tag": "ABX9TyMtCMan20y8tnYJV5hu3SZq",
      "include_colab_link": true
    },
    "kernelspec": {
      "name": "python3",
      "display_name": "Python 3"
    },
    "language_info": {
      "name": "python"
    }
  },
  "cells": [
    {
      "cell_type": "markdown",
      "metadata": {
        "id": "view-in-github",
        "colab_type": "text"
      },
      "source": [
        "<a href=\"https://colab.research.google.com/github/ppandey6602/Applied-Machine-Learning/blob/main/synthesizingmusic.ipynb\" target=\"_parent\"><img src=\"https://colab.research.google.com/assets/colab-badge.svg\" alt=\"Open In Colab\"/></a>"
      ]
    },
    {
      "cell_type": "markdown",
      "source": [
        "Create a new Python file, and import the following packages:"
      ],
      "metadata": {
        "id": "YSCZ0s71MB8k"
      }
    },
    {
      "cell_type": "code",
      "execution_count": null,
      "metadata": {
        "id": "SQt5BCAlL7-T"
      },
      "outputs": [],
      "source": [
        "import json\n",
        "\n",
        "import numpy as np\n",
        "\n",
        "from scipy.io.wavfile import write\n",
        "\n",
        "import matplotlib.pyplot as plt"
      ]
    },
    {
      "cell_type": "markdown",
      "source": [
        "Define a function to synthesize a tone, based on input parameters:\n",
        "\n",
        "\n",
        "Build the time axis values:\n",
        "\n",
        "Construct the audio sample using the input arguments, such as amplitude and frequency:\n"
      ],
      "metadata": {
        "id": "2JfI8t5rMMAN"
      }
    },
    {
      "cell_type": "code",
      "source": [
        "# Synthesize tone\n",
        "\n",
        "def synthesizer(freq, duration, amp=1.0, sampling_freq=44100):\n",
        "\n",
        "    #  Build the time axis\n",
        "\n",
        "    t = np.linspace(0, duration, duration * sampling_freq)\n",
        "\n",
        "    # Construct the audio signal\n",
        "\n",
        "    audio = amp * np.sin(2 * np.pi * freq * t)\n",
        "\n",
        "    return audio.astype(np.int16)"
      ],
      "metadata": {
        "id": "qHpIkdtdMOlb"
      },
      "execution_count": null,
      "outputs": []
    },
    {
      "cell_type": "markdown",
      "source": [
        "Let's define the main function. You have been provided with a JSON file called tone_freq_map.json, which contains some notes\n",
        "along with their frequencies:"
      ],
      "metadata": {
        "id": "PECpY73gQOhg"
      }
    },
    {
      "cell_type": "code",
      "source": [
        "if __name__=='__main__':\n",
        "\n",
        "     tone_map_file = 'tone_freq_map.json'"
      ],
      "metadata": {
        "id": "ehAG3iMFMg0Y"
      },
      "execution_count": null,
      "outputs": []
    },
    {
      "cell_type": "markdown",
      "source": [
        "Load that file:"
      ],
      "metadata": {
        "id": "-tDNof6jMlAe"
      }
    },
    {
      "cell_type": "code",
      "source": [
        "# Read the frequency map\n",
        "\n",
        "with open(tone_map_file, 'r') as f:\n",
        "\n",
        "   tone_freq_map = json.loads(f.read())"
      ],
      "metadata": {
        "id": "S8uwKlDeMp6k"
      },
      "execution_count": null,
      "outputs": []
    },
    {
      "cell_type": "markdown",
      "source": [
        "Let's assume that we want to generate a G note for a duration of 2 seconds:"
      ],
      "metadata": {
        "id": "dvM3iQQkMq-Q"
      }
    },
    {
      "cell_type": "code",
      "source": [
        "# Set input parameters to generate 'G' tone\n",
        "\n",
        "input_tone = 'A'\n",
        "\n",
        "duration = 2 # seconds\n",
        "\n",
        "amplitude = 10000\n",
        "\n",
        "sampling_freq = 44100 # Hz"
      ],
      "metadata": {
        "id": "V4sblzlsMuv3"
      },
      "execution_count": null,
      "outputs": []
    },
    {
      "cell_type": "markdown",
      "source": [
        "Call the function with the following parameters:"
      ],
      "metadata": {
        "id": "wIs4FJpWMxIu"
      }
    },
    {
      "cell_type": "code",
      "source": [
        "# Generate the tone\n",
        "\n",
        "synthesized_tone = synthesizer(tone_freq_map[input_tone], duration, amplitude, sampling_freq)"
      ],
      "metadata": {
        "id": "-YfVL9bzM017"
      },
      "execution_count": null,
      "outputs": []
    },
    {
      "cell_type": "markdown",
      "source": [
        "Write the generated signal into the output file:"
      ],
      "metadata": {
        "id": "JG9UoYZwM3Zq"
      }
    },
    {
      "cell_type": "code",
      "source": [
        "# Write to the output file\n",
        "\n",
        "write('output_tone.wav', sampling_freq, synthesized_tone)"
      ],
      "metadata": {
        "id": "DmtO4iLvM5iZ"
      },
      "execution_count": null,
      "outputs": []
    },
    {
      "cell_type": "markdown",
      "source": [
        "Open this file in a media player and listen to it. That's the G note\n",
        "To add ore interest let's generate some notes in sequence to give it a musical feel. Define a note sequence along with their durations in\n",
        "seconds:"
      ],
      "metadata": {
        "id": "JHggqybgM_rd"
      }
    },
    {
      "cell_type": "code",
      "source": [
        "# Tone-duration sequence\n",
        "\n",
        "tone_seq = [('D', 0.3), ('G', 0.6), ('C', 0.5), ('A', 0.3),\n",
        "\n",
        "('Asharp', 0.7)]"
      ],
      "metadata": {
        "id": "1RwtQBX-NCbL"
      },
      "execution_count": null,
      "outputs": []
    }
  ]
}