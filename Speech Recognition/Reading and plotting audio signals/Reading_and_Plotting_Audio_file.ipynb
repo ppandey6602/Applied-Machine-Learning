{
  "cells": [
    {
      "cell_type": "code",
      "execution_count": null,
      "metadata": {
        "colab": {
          "base_uri": "https://localhost:8080/",
          "height": 394
        },
        "id": "AVpmZAphZmiF",
        "outputId": "ae139273-dc76-4c52-f21e-7435488eaa6b"
      },
      "outputs": [
        {
          "ename": "NameError",
          "evalue": "ignored",
          "output_type": "error",
          "traceback": [
            "\u001b[0;31m---------------------------------------------------------------------------\u001b[0m",
            "\u001b[0;31mNameError\u001b[0m                                 Traceback (most recent call last)",
            "\u001b[0;32m<ipython-input-1-607dad01aafa>\u001b[0m in \u001b[0;36m<module>\u001b[0;34m\u001b[0m\n\u001b[1;32m      1\u001b[0m \u001b[0;31m#Use wavfile package to read the audio file from the input_read.wav input file that is already provided\u001b[0m\u001b[0;34m\u001b[0m\u001b[0;34m\u001b[0m\u001b[0;34m\u001b[0m\u001b[0m\n\u001b[1;32m      2\u001b[0m \u001b[0;31m# Read the input file\u001b[0m\u001b[0;34m\u001b[0m\u001b[0;34m\u001b[0m\u001b[0;34m\u001b[0m\u001b[0m\n\u001b[0;32m----> 3\u001b[0;31m \u001b[0msampling_freq\u001b[0m\u001b[0;34m,\u001b[0m \u001b[0maudio\u001b[0m \u001b[0;34m=\u001b[0m \u001b[0mwavfile\u001b[0m\u001b[0;34m.\u001b[0m\u001b[0mread\u001b[0m\u001b[0;34m(\u001b[0m\u001b[0;34m'/content/ELPHNTTR.wav'\u001b[0m\u001b[0;34m)\u001b[0m\u001b[0;34m\u001b[0m\u001b[0;34m\u001b[0m\u001b[0m\n\u001b[0m",
            "\u001b[0;31mNameError\u001b[0m: name 'wavfile' is not defined"
          ]
        }
      ],
      "source": [
        "#Use wavfile package to read the audio file from the input_read.wav input file that is already provided \n",
        "# Read the input file\n",
        "sampling_freq, audio = wavfile.read('/content/ELPHNTTR.wav')"
      ]
    },
    {
      "cell_type": "markdown",
      "metadata": {
        "id": "u2e2UJr0ERuL"
      },
      "source": []
    },
    {
      "cell_type": "code",
      "execution_count": null,
      "metadata": {
        "colab": {
          "base_uri": "https://localhost:8080/"
        },
        "id": "E8rAMiJRbbkx",
        "outputId": "b0f9fcc4-91cf-48c3-ccb6-03079cc417b0"
      },
      "outputs": [
        {
          "name": "stdout",
          "output_type": "stream",
          "text": [
            "\n",
            "Shape: (48640,)\n",
            "Datatype: uint8\n",
            "Duration: 2.206 seconds\n"
          ]
        }
      ],
      "source": [
        "# Print the params\n",
        "print('\\nShape:', audio.shape)\n",
        "print('Datatype:', audio.dtype)\n",
        "print('Duration:', round(audio.shape[0] / float(sampling_freq), 3), 'seconds')"
      ]
    },
    {
      "cell_type": "code",
      "execution_count": null,
      "metadata": {
        "id": "LL2xgXN8ZeJu"
      },
      "outputs": [],
      "source": [
        "import numpy as np\n",
        "import matplotlib.pyplot as plt\n",
        "from scipy.io import wavfile"
      ]
    },
    {
      "cell_type": "code",
      "execution_count": null,
      "metadata": {
        "id": "YTyJlZdubd5J"
      },
      "outputs": [],
      "source": [
        "# Normalize the values. normalize audio is to change its overall volume by a fixed amount to reach a target level\n",
        "audio = audio / (2**15)"
      ]
    },
    {
      "cell_type": "code",
      "execution_count": null,
      "metadata": {
        "id": "UDdKBtEDbgSJ"
      },
      "outputs": [],
      "source": [
        "# Extract first 30 values for plotting\n",
        "#Use Slicing a List. Syntax: L[start:stop:step]\n",
        "audio = audio[:30]"
      ]
    },
    {
      "cell_type": "code",
      "execution_count": null,
      "metadata": {
        "id": "p6UvOOTlbiIp"
      },
      "outputs": [],
      "source": [
        "# Build the time axis\n",
        "x_values = np.arange(0, len(audio), 1) / float(sampling_freq)"
      ]
    },
    {
      "cell_type": "code",
      "execution_count": null,
      "metadata": {
        "id": "CZxhTY-2bj8B"
      },
      "outputs": [],
      "source": [
        "# Convert to seconds\n",
        "x_values *= 1000"
      ]
    },
    {
      "cell_type": "code",
      "execution_count": null,
      "metadata": {
        "colab": {
          "base_uri": "https://localhost:8080/",
          "height": 295
        },
        "id": "Ewfh3_nSbX4b",
        "outputId": "32b05423-71b4-4858-84f4-94dfdf119ca0"
      },
      "outputs": [
        {
          "data": {
            "image/png": "[encoded data removed]",
            "text/plain": [
              "<Figure size 432x288 with 1 Axes>"
            ]
          },
          "metadata": {
            "needs_background": "light"
          },
          "output_type": "display_data"
        }
      ],
      "source": [
        "# Plotting the chopped audio signal\n",
        "plt.plot(x_values, audio, color='black')\n",
        "plt.xlabel('Time (ms)')\n",
        "plt.ylabel('Amplitude')\n",
        "plt.title('Audio signal')\n",
        "plt.show()"
      ]
    }
  ],
  "metadata": {
    "colab": {
      "provenance": []
    },
    "kernelspec": {
      "display_name": "Python 3",
      "name": "python3"
    },
    "language_info": {
      "name": "python"
    }
  },
  "nbformat": 4,
  "nbformat_minor": 0
}
