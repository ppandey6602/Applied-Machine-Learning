{
  "cells": [
    {
      "cell_type": "code",
      "execution_count": null,
      "metadata": {
        "id": "c-cbUQkBocno"
      },
      "outputs": [],
      "source": [
        "# File where the output will be saved\n",
        "output_file = '/content/file_example_WAV_1MG.wav'"
      ]
    },
    {
      "cell_type": "code",
      "execution_count": null,
      "metadata": {
        "id": "2gGGPKXzn2ZM"
      },
      "outputs": [],
      "source": [
        "import numpy as np\n",
        "import matplotlib.pyplot as plt\n",
        "from scipy.io.wavfile import write"
      ]
    },
    {
      "cell_type": "code",
      "execution_count": null,
      "metadata": {
        "id": "vaRXjR0locd3"
      },
      "outputs": [],
      "source": [
        "# Specify audio parameters\n",
        "duration = 3  # seconds\n",
        "sampling_freq = 70000  # Hz\n",
        "tone_freq = 587\n",
        "min_val = -2 * np.pi\n",
        "max_val = 2 * np.pi"
      ]
    },
    {
      "cell_type": "code",
      "execution_count": null,
      "metadata": {
        "id": "bVTOcugzocYU"
      },
      "outputs": [],
      "source": [
        "# Generate audio\n",
        "t = np.linspace(min_val, max_val, duration * sampling_freq)\n",
        "audio = np.sin(2 * np.pi * tone_freq * t)"
      ]
    },
    {
      "cell_type": "code",
      "execution_count": null,
      "metadata": {
        "id": "XYzoYfFrocQ4"
      },
      "outputs": [],
      "source": [
        "# Add some noise\n",
        "noise = 0.4 * np.random.rand(duration * sampling_freq)\n",
        "audio += noise"
      ]
    },
    {
      "cell_type": "code",
      "execution_count": null,
      "metadata": {
        "id": "PBL9Tt1EocEv"
      },
      "outputs": [],
      "source": [
        "# Scale it to 16-bit integer values\n",
        "scaling_factor = pow(2,15) - 1\n",
        "audio_normalized = audio / np.max(np.abs(audio))\n",
        "audio_scaled = np.int16(audio_normalized * scaling_factor)"
      ]
    },
    {
      "cell_type": "code",
      "execution_count": null,
      "metadata": {
        "id": "_mJRp-F1ob0W"
      },
      "outputs": [],
      "source": [
        "# Write to output file\n",
        "write(output_file, sampling_freq, audio_scaled)"
      ]
    },
    {
      "cell_type": "code",
      "execution_count": null,
      "metadata": {
        "id": "OC2wT_Nqo46M"
      },
      "outputs": [],
      "source": [
        "# Extract first 100 values for plotting\n",
        "audio = audio[:100]"
      ]
    },
    {
      "cell_type": "code",
      "execution_count": null,
      "metadata": {
        "id": "TgGiAr6ko4xH"
      },
      "outputs": [],
      "source": [
        "# Build the time axis\n",
        "x_values = np.arange(0, len(audio), 1) / float(sampling_freq)"
      ]
    },
    {
      "cell_type": "code",
      "execution_count": null,
      "metadata": {
        "id": "C9Owgdx4o4ny"
      },
      "outputs": [],
      "source": [
        "# Convert to seconds\n",
        "x_values *= 1000"
      ]
    },
    {
      "cell_type": "code",
      "execution_count": null,
      "metadata": {
        "colab": {
          "base_uri": "https://localhost:8080/",
          "height": 295
        },
        "id": "apPNKc-no4dq",
        "outputId": "1c262ff1-cef3-43f6-db40-c1eb8e6e146a"
      },
      "outputs": [
        {
          "data": {
            "image/png": "[encoded data removed]",
            "text/plain": [
              "<Figure size 432x288 with 1 Axes>"
            ]
          },
          "metadata": {
            "needs_background": "light"
          },
          "output_type": "display_data"
        }
      ],
      "source": [
        "# Plotting the chopped audio signal\n",
        "plt.plot(x_values, audio, color='black')\n",
        "plt.xlabel('Time (ms)')\n",
        "plt.ylabel('Amplitude')\n",
        "plt.title('Audio signal')\n",
        "plt.show()"
      ]
    }
  ],
  "metadata": {
    "colab": {
      "provenance": []
    },
    "kernelspec": {
      "display_name": "Python 3",
      "name": "python3"
    },
    "language_info": {
      "name": "python"
    }
  },
  "nbformat": 4,
  "nbformat_minor": 0
}
