{
  "cells": [
    {
      "cell_type": "markdown",
      "metadata": {
        "id": "YSCZ0s71MB8k"
      },
      "source": [
        "Create a new Python file, and import the following packages:"
      ]
    },
    {
      "cell_type": "code",
      "execution_count": null,
      "metadata": {
        "id": "SQt5BCAlL7-T"
      },
      "outputs": [],
      "source": [
        "import json\n",
        "\n",
        "import numpy as np\n",
        "\n",
        "from scipy.io.wavfile import write\n",
        "\n",
        "import matplotlib.pyplot as plt"
      ]
    },
    {
      "cell_type": "markdown",
      "metadata": {
        "id": "2JfI8t5rMMAN"
      },
      "source": [
        "Define a function to synthesize a tone, based on input parameters:\n",
        "\n",
        "\n",
        "Build the time axis values:\n",
        "\n",
        "Construct the audio sample using the input arguments, such as amplitude and frequency:\n"
      ]
    },
    {
      "cell_type": "code",
      "execution_count": null,
      "metadata": {
        "id": "qHpIkdtdMOlb"
      },
      "outputs": [],
      "source": [
        "# Synthesize tone\n",
        "\n",
        "def synthesizer(freq, duration, amp=1.0, sampling_freq=44100):\n",
        "\n",
        "    #  Build the time axis\n",
        "\n",
        "    t = np.linspace(0, duration, duration * sampling_freq)\n",
        "\n",
        "    # Construct the audio signal\n",
        "\n",
        "    audio = amp * np.sin(2 * np.pi * freq * t)\n",
        "\n",
        "    return audio.astype(np.int16)"
      ]
    },
    {
      "cell_type": "markdown",
      "metadata": {
        "id": "PECpY73gQOhg"
      },
      "source": [
        "Let's define the main function. You have been provided with a JSON file called tone_freq_map.json, which contains some notes\n",
        "along with their frequencies:"
      ]
    },
    {
      "cell_type": "code",
      "execution_count": null,
      "metadata": {
        "id": "ehAG3iMFMg0Y"
      },
      "outputs": [],
      "source": [
        "if __name__=='__main__':\n",
        "\n",
        "     tone_map_file = 'tone_freq_map.json'"
      ]
    },
    {
      "cell_type": "markdown",
      "metadata": {
        "id": "-tDNof6jMlAe"
      },
      "source": [
        "Load that file:"
      ]
    },
    {
      "cell_type": "code",
      "execution_count": null,
      "metadata": {
        "id": "S8uwKlDeMp6k"
      },
      "outputs": [],
      "source": [
        "# Read the frequency map\n",
        "\n",
        "with open(tone_map_file, 'r') as f:\n",
        "\n",
        "   tone_freq_map = json.loads(f.read())"
      ]
    },
    {
      "cell_type": "markdown",
      "metadata": {
        "id": "dvM3iQQkMq-Q"
      },
      "source": [
        "Let's assume that we want to generate a G note for a duration of 2 seconds:"
      ]
    },
    {
      "cell_type": "code",
      "execution_count": null,
      "metadata": {
        "id": "V4sblzlsMuv3"
      },
      "outputs": [],
      "source": [
        "# Set input parameters to generate 'G' tone\n",
        "\n",
        "input_tone = 'A'\n",
        "\n",
        "duration = 2 # seconds\n",
        "\n",
        "amplitude = 10000\n",
        "\n",
        "sampling_freq = 44100 # Hz"
      ]
    },
    {
      "cell_type": "markdown",
      "metadata": {
        "id": "wIs4FJpWMxIu"
      },
      "source": [
        "Call the function with the following parameters:"
      ]
    },
    {
      "cell_type": "code",
      "execution_count": null,
      "metadata": {
        "id": "-YfVL9bzM017"
      },
      "outputs": [],
      "source": [
        "# Generate the tone\n",
        "\n",
        "synthesized_tone = synthesizer(tone_freq_map[input_tone], duration, amplitude, sampling_freq)"
      ]
    },
    {
      "cell_type": "markdown",
      "metadata": {
        "id": "JG9UoYZwM3Zq"
      },
      "source": [
        "Write the generated signal into the output file:"
      ]
    },
    {
      "cell_type": "code",
      "execution_count": null,
      "metadata": {
        "id": "DmtO4iLvM5iZ"
      },
      "outputs": [],
      "source": [
        "# Write to the output file\n",
        "\n",
        "write('output_tone.wav', sampling_freq, synthesized_tone)"
      ]
    },
    {
      "cell_type": "markdown",
      "metadata": {
        "id": "JHggqybgM_rd"
      },
      "source": [
        "Open this file in a media player and listen to it. That's the G note\n",
        "To add ore interest let's generate some notes in sequence to give it a musical feel. Define a note sequence along with their durations in\n",
        "seconds:"
      ]
    },
    {
      "cell_type": "code",
      "execution_count": null,
      "metadata": {
        "id": "1RwtQBX-NCbL"
      },
      "outputs": [],
      "source": [
        "# Tone-duration sequence\n",
        "\n",
        "tone_seq = [('D', 0.3), ('G', 0.6), ('C', 0.5), ('A', 0.3),\n",
        "\n",
        "('Asharp', 0.7)]"
      ]
    }
  ],
  "metadata": {
    "colab": {
      "provenance": []
    },
    "kernelspec": {
      "display_name": "Python 3",
      "name": "python3"
    },
    "language_info": {
      "name": "python"
    }
  },
  "nbformat": 4,
  "nbformat_minor": 0
}
